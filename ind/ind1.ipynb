{
 "cells": [
  {
   "cell_type": "markdown",
   "id": "3d389e5e",
   "metadata": {},
   "source": [
    "# Индивидуальное задание №1"
   ]
  },
  {
   "cell_type": "markdown",
   "id": "923e9524",
   "metadata": {},
   "source": [
    "## Элемент матрицы называется локальным минимумом, если он строго меньше всех имеющихся у него соседей. Подсчитать количество локальных минимумов заданной матрицы размером 10 на 10. Найти сумму модулей элементов, расположенных выше главной диагонали."
   ]
  },
  {
   "cell_type": "code",
   "execution_count": 1,
   "id": "0eeaa4d9",
   "metadata": {
    "ExecuteTime": {
     "end_time": "2023-04-28T07:16:33.029079Z",
     "start_time": "2023-04-28T07:16:32.887162Z"
    }
   },
   "outputs": [],
   "source": [
    "import numpy as np\n",
    "\n",
    "# Создаем матрицу размером 10 на 10\n",
    "matrix = np.random.randint(0, 100, (10, 10))"
   ]
  },
  {
   "cell_type": "code",
   "execution_count": 2,
   "id": "a040d793",
   "metadata": {
    "ExecuteTime": {
     "end_time": "2023-04-28T07:16:51.200480Z",
     "start_time": "2023-04-28T07:16:51.195492Z"
    }
   },
   "outputs": [],
   "source": [
    "# Определяем локальные минимумы\n",
    "is_local_min = np.logical_and(matrix[1:] > matrix[:-1], matrix[:-1] < matrix[1:])\n",
    "local_min_count = np.count_nonzero(is_local_min)"
   ]
  },
  {
   "cell_type": "code",
   "execution_count": 3,
   "id": "33ee1f1a",
   "metadata": {
    "ExecuteTime": {
     "end_time": "2023-04-28T07:17:01.908250Z",
     "start_time": "2023-04-28T07:17:01.890781Z"
    }
   },
   "outputs": [],
   "source": [
    "# Считаем сумму модулей элементов выше главной диагонали\n",
    "sum_above_diag = np.sum(np.abs(np.triu(matrix, k=1)))"
   ]
  },
  {
   "cell_type": "code",
   "execution_count": 4,
   "id": "b84be35c",
   "metadata": {
    "ExecuteTime": {
     "end_time": "2023-04-28T07:18:29.218464Z",
     "start_time": "2023-04-28T07:18:29.205499Z"
    }
   },
   "outputs": [
    {
     "name": "stdout",
     "output_type": "stream",
     "text": [
      "Количество локальных минимумов: 39\n",
      "Сумма модулей элементов выше главной диагонали: 2139\n"
     ]
    }
   ],
   "source": [
    "print(f\"Количество локальных минимумов: {local_min_count}\")\n",
    "print(f\"Сумма модулей элементов выше главной диагонали: {sum_above_diag}\")"
   ]
  },
  {
   "cell_type": "code",
   "execution_count": 5,
   "id": "6f298d4f",
   "metadata": {
    "ExecuteTime": {
     "end_time": "2023-04-28T07:19:32.166072Z",
     "start_time": "2023-04-28T07:19:32.159574Z"
    }
   },
   "outputs": [
    {
     "name": "stdout",
     "output_type": "stream",
     "text": [
      "[[11 61 83 76 65  0 49 51 62 95]\n",
      " [60 33 41 52 25 88 27 41 17 54]\n",
      " [70 96 30 12  3 34 48 23 28  9]\n",
      " [61 87 13 62 84 94 55 73 42 78]\n",
      " [62 32 24  1 45 12 40 26 92  4]\n",
      " [37 11 75 73 92  7 31 44  7 63]\n",
      " [29 47 78  1 55 11 98 55 91 48]\n",
      " [78 78 77 59 24 44 40 65 74 44]\n",
      " [39 96 43 98  8 94 64 59 94 38]\n",
      " [39 29 30 36 50 91 68 21 42 32]]\n"
     ]
    }
   ],
   "source": [
    "print(matrix)"
   ]
  }
 ],
 "metadata": {
  "kernelspec": {
   "display_name": "Python 3 (ipykernel)",
   "language": "python",
   "name": "python3"
  },
  "language_info": {
   "codemirror_mode": {
    "name": "ipython",
    "version": 3
   },
   "file_extension": ".py",
   "mimetype": "text/x-python",
   "name": "python",
   "nbconvert_exporter": "python",
   "pygments_lexer": "ipython3",
   "version": "3.9.12"
  }
 },
 "nbformat": 4,
 "nbformat_minor": 5
}
