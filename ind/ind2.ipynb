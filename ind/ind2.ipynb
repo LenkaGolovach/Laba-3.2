{
 "cells": [
  {
   "cell_type": "markdown",
   "id": "c0cccfbe",
   "metadata": {},
   "source": [
    "# Индивидуальное задание 2"
   ]
  },
  {
   "cell_type": "markdown",
   "id": "305d4df9",
   "metadata": {},
   "source": [
    "## Eсть система из двух зарядов с зарядами $Q_1$ и $Q_2$, размещенных на расстоянии $d$ друг от друга. Необходимо найти потенциальную энергию системы.\n",
    "## Потенциальная энергия системы зарядов может быть найдена с помощью интеграла:\n",
    "![INTEGRAL](integral.jpg)\n",
    "## где $r$ - расстояние между зарядами, $\\epsilon_0$ - электрическая постоянная.\n",
    " "
   ]
  },
  {
   "cell_type": "code",
   "execution_count": 1,
   "id": "8b5846a5",
   "metadata": {
    "ExecuteTime": {
     "end_time": "2023-04-28T07:33:59.578808Z",
     "start_time": "2023-04-28T07:33:59.436641Z"
    }
   },
   "outputs": [],
   "source": [
    "import numpy as np"
   ]
  },
  {
   "cell_type": "code",
   "execution_count": 3,
   "id": "01e39c22",
   "metadata": {
    "ExecuteTime": {
     "end_time": "2023-04-28T07:35:09.410655Z",
     "start_time": "2023-04-28T07:35:09.405668Z"
    }
   },
   "outputs": [],
   "source": [
    "# определяем константы\n",
    "epsilon0 = 8.85e-12  # электрическая постоянная\n",
    "k = 1 / (4 * np.pi * epsilon0)"
   ]
  },
  {
   "cell_type": "code",
   "execution_count": 5,
   "id": "1df98270",
   "metadata": {
    "ExecuteTime": {
     "end_time": "2023-04-28T07:38:08.534509Z",
     "start_time": "2023-04-28T07:38:08.529523Z"
    }
   },
   "outputs": [],
   "source": [
    "# Задаём функцию, которая вычисляет подынтыгральное выражение в точке r\n",
    "def integrand(r, q1, q2):\n",
    "    return q1 * q2 / r"
   ]
  },
  {
   "cell_type": "code",
   "execution_count": 9,
   "id": "b71ea0b0",
   "metadata": {
    "ExecuteTime": {
     "end_time": "2023-04-28T07:42:37.757187Z",
     "start_time": "2023-04-28T07:42:37.744222Z"
    }
   },
   "outputs": [
    {
     "name": "stdout",
     "output_type": "stream",
     "text": [
      "Потенциальная энергия системы: -5.6213e+12 Дж\n"
     ]
    }
   ],
   "source": [
    "# Вычисляем значение интеграла\n",
    "from scipy.integrate import quad\n",
    "\n",
    "q1 = 3  # Кл\n",
    "q2 = -5  # Кл\n",
    "d = 2  # м\n",
    "\n",
    "# игнорируем сообщение о возможной неточности\n",
    "import warnings\n",
    "warnings.filterwarnings('ignore')\n",
    "\n",
    "result, _ = quad(integrand, 0, d, args=(q1, q2), maxp1=100)\n",
    "U = k * result\n",
    "print(f\"Потенциальная энергия системы: {U:.4e} Дж\")"
   ]
  },
  {
   "cell_type": "code",
   "execution_count": null,
   "id": "6d99035a",
   "metadata": {},
   "outputs": [],
   "source": []
  }
 ],
 "metadata": {
  "kernelspec": {
   "display_name": "Python 3 (ipykernel)",
   "language": "python",
   "name": "python3"
  },
  "language_info": {
   "codemirror_mode": {
    "name": "ipython",
    "version": 3
   },
   "file_extension": ".py",
   "mimetype": "text/x-python",
   "name": "python",
   "nbconvert_exporter": "python",
   "pygments_lexer": "ipython3",
   "version": "3.9.12"
  }
 },
 "nbformat": 4,
 "nbformat_minor": 5
}
