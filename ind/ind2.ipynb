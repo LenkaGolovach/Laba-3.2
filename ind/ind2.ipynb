{
 "cells": [
  {
   "cell_type": "markdown",
   "id": "c0cccfbe",
   "metadata": {},
   "source": [
    "# Индивидуальное задание 2"
   ]
  },
  {
   "attachments": {},
   "cell_type": "markdown",
   "id": "305d4df9",
   "metadata": {},
   "source": [
    "## Eсть система из двух зарядов с зарядами $Q_1$ и $Q_2$, размещенных на расстоянии $d$ друг от друга. Необходимо найти потенциальную энергию системы.\n",
    "## Потенциальная энергия системы зарядов может быть найдена с помощью интеграла:\n",
    "### $$U = \\frac{1}{4\\pi\\epsilon} \\int_{} \\frac{Q_{1}Q_{2}}{r} dr$$\n",
    "## где $r$ - расстояние между зарядами, $\\epsilon_0$ - электрическая постоянная.\n",
    " "
   ]
  },
  {
   "cell_type": "code",
   "execution_count": 2,
   "id": "8b5846a5",
   "metadata": {
    "ExecuteTime": {
     "end_time": "2023-04-28T08:48:53.463682Z",
     "start_time": "2023-04-28T08:48:53.457699Z"
    }
   },
   "outputs": [],
   "source": [
    "import numpy as np"
   ]
  },
  {
   "cell_type": "code",
   "execution_count": 3,
   "id": "01e39c22",
   "metadata": {
    "ExecuteTime": {
     "end_time": "2023-04-28T08:48:56.386892Z",
     "start_time": "2023-04-28T08:48:56.377920Z"
    }
   },
   "outputs": [],
   "source": [
    "# определяем константы\n",
    "epsilon0 = 8.85e-12  # электрическая постоянная\n",
    "k = 1 / (4 * np.pi * epsilon0)"
   ]
  },
  {
   "cell_type": "code",
   "execution_count": 4,
   "id": "1df98270",
   "metadata": {
    "ExecuteTime": {
     "end_time": "2023-04-28T08:48:57.034350Z",
     "start_time": "2023-04-28T08:48:57.023394Z"
    }
   },
   "outputs": [],
   "source": [
    "# Задаём функцию, которая вычисляет подынтыгральное выражение в точке r\n",
    "def integrand(r, q1, q2):\n",
    "    return q1 * q2 / r"
   ]
  },
  {
   "cell_type": "code",
   "execution_count": 5,
   "id": "b71ea0b0",
   "metadata": {
    "ExecuteTime": {
     "end_time": "2023-04-28T08:48:57.717980Z",
     "start_time": "2023-04-28T08:48:57.708005Z"
    }
   },
   "outputs": [
    {
     "name": "stdout",
     "output_type": "stream",
     "text": [
      "Потенциальная энергия системы: -5.6213e+12 Дж\n"
     ]
    },
    {
     "name": "stderr",
     "output_type": "stream",
     "text": [
      "C:\\Users\\karam\\AppData\\Local\\Temp\\ipykernel_25556\\805672574.py:12: IntegrationWarning: The maximum number of subdivisions (50) has been achieved.\n",
      "  If increasing the limit yields no improvement it is advised to analyze \n",
      "  the integrand in order to determine the difficulties.  If the position of a \n",
      "  local difficulty can be determined (singularity, discontinuity) one will \n",
      "  probably gain from splitting up the interval and calling the integrator \n",
      "  on the subranges.  Perhaps a special-purpose integrator should be used.\n",
      "  result, _ = quad(integrand, 0, d, args=(q1, q2))\n"
     ]
    }
   ],
   "source": [
    "# Вычисляем значение интеграла\n",
    "from scipy.integrate import quad\n",
    "\n",
    "q1 = 3  # Кл\n",
    "q2 = -5  # Кл\n",
    "d = 2  # м\n",
    "\n",
    "# игнорируем сообщение о возможной неточности\n",
    "#import warnings\n",
    "#warnings.filterwarnings('ignore')\n",
    "\n",
    "result, _ = quad(integrand, 0, d, args=(q1, q2))\n",
    "U = k * result\n",
    "print(f\"Потенциальная энергия системы: {U:.4e} Дж\")"
   ]
  }
 ],
 "metadata": {
  "kernelspec": {
   "display_name": "Python 3 (ipykernel)",
   "language": "python",
   "name": "python3"
  },
  "language_info": {
   "codemirror_mode": {
    "name": "ipython",
    "version": 3
   },
   "file_extension": ".py",
   "mimetype": "text/x-python",
   "name": "python",
   "nbconvert_exporter": "python",
   "pygments_lexer": "ipython3",
   "version": "3.9.12"
  }
 },
 "nbformat": 4,
 "nbformat_minor": 5
}
